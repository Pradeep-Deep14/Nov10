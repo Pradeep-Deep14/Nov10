{
 "cells": [
  {
   "cell_type": "code",
   "execution_count": null,
   "metadata": {},
   "outputs": [],
   "source": [
    "import yt_dlp"
   ]
  },
  {
   "cell_type": "code",
   "execution_count": null,
   "metadata": {},
   "outputs": [],
   "source": [
    "import yt dip\n",
    "Enter the url for the download\n",
    "url=input(\"Enter video url:\")\n",
    "ydl_epts()\n",
    "with yt dip. YoutubeDL (ydl_opts) as yol:\n",
    "ydi.download([url])\n",
    "print(\"Video downloaded successfully!\")"
   ]
  },
  {
   "cell_type": "code",
   "execution_count": null,
   "metadata": {},
   "outputs": [],
   "source": []
  }
 ],
 "metadata": {
  "language_info": {
   "name": "python"
  }
 },
 "nbformat": 4,
 "nbformat_minor": 2
}
